{
 "cells": [
  {
   "cell_type": "code",
   "execution_count": 1,
   "metadata": {},
   "outputs": [],
   "source": [
    "from nemweb.nemweb_current import CurrentFileHandler, DATASETS, update_datasets"
   ]
  },
  {
   "cell_type": "code",
   "execution_count": 2,
   "metadata": {},
   "outputs": [],
   "source": [
    "handler = CurrentFileHandler()"
   ]
  },
  {
   "cell_type": "code",
   "execution_count": 3,
   "metadata": {},
   "outputs": [
    {
     "data": {
      "text/plain": [
       "dict_keys(['dispatch_is', 'rooftopPV_actual', 'next_day_dispatch', 'dispatch_scada', 'next_day_actual_gen', 'trading_is'])"
      ]
     },
     "execution_count": 3,
     "metadata": {},
     "output_type": "execute_result"
    }
   ],
   "source": [
    "DATASETS.keys()"
   ]
  },
  {
   "cell_type": "code",
   "execution_count": 4,
   "metadata": {},
   "outputs": [],
   "source": [
    "handler.update_data(DATASETS['trading_is'])"
   ]
  },
  {
   "cell_type": "code",
   "execution_count": 5,
   "metadata": {},
   "outputs": [],
   "source": [
    "from nemweb import CONFIG\n",
    "import os\n",
    "db_path = os.path.join(\n",
    "    CONFIG['local_settings']['sqlite_dir'], 'nemweb_live.db')"
   ]
  },
  {
   "cell_type": "code",
   "execution_count": 6,
   "metadata": {},
   "outputs": [],
   "source": [
    "import sqlite3\n",
    "conn = sqlite3.connect(db_path)\n",
    "cur = conn.cursor()"
   ]
  },
  {
   "cell_type": "code",
   "execution_count": 10,
   "metadata": {},
   "outputs": [
    {
     "data": {
      "text/plain": [
       "<sqlite3.Cursor at 0x1145d8c70>"
      ]
     },
     "execution_count": 10,
     "metadata": {},
     "output_type": "execute_result"
    }
   ],
   "source": [
    "cur.execute(\"SELECT * FROM sqlite_master WHERE type='table';\")"
   ]
  },
  {
   "cell_type": "code",
   "execution_count": 11,
   "metadata": {},
   "outputs": [
    {
     "name": "stdout",
     "output_type": "stream",
     "text": [
      "[('table', 'METER_DATA_GEN_DUID', 'METER_DATA_GEN_DUID', 2, 'CREATE TABLE \"METER_DATA_GEN_DUID\" (\\n\"I\" TEXT,\\n  \"METER_DATA\" TEXT,\\n  \"GEN_DUID\" TEXT,\\n  \"1\" INTEGER,\\n  \"INTERVAL_DATETIME\" TEXT,\\n  \"DUID\" TEXT,\\n  \"MWH_READING\" REAL,\\n  \"LASTCHANGED\" TEXT\\n)'), ('table', 'TRADING_PRICE', 'TRADING_PRICE', 866, 'CREATE TABLE \"TRADING_PRICE\" (\\n\"I\" TEXT,\\n  \"TRADING\" TEXT,\\n  \"PRICE\" TEXT,\\n  \"2\" INTEGER,\\n  \"SETTLEMENTDATE\" TEXT,\\n  \"RUNNO\" INTEGER,\\n  \"REGIONID\" TEXT,\\n  \"PERIODID\" INTEGER,\\n  \"RRP\" REAL,\\n  \"EEP\" INTEGER,\\n  \"INVALIDFLAG\" INTEGER,\\n  \"LASTCHANGED\" TEXT,\\n  \"ROP\" REAL,\\n  \"RAISE6SECRRP\" REAL,\\n  \"RAISE6SECROP\" REAL,\\n  \"RAISE60SECRRP\" REAL,\\n  \"RAISE60SECROP\" REAL,\\n  \"RAISE5MINRRP\" REAL,\\n  \"RAISE5MINROP\" REAL,\\n  \"RAISEREGRRP\" REAL,\\n  \"RAISEREGROP\" REAL,\\n  \"LOWER6SECRRP\" REAL,\\n  \"LOWER6SECROP\" REAL,\\n  \"LOWER60SECRRP\" REAL,\\n  \"LOWER60SECROP\" REAL,\\n  \"LOWER5MINRRP\" REAL,\\n  \"LOWER5MINROP\" REAL,\\n  \"LOWERREGRRP\" REAL,\\n  \"LOWERREGROP\" REAL,\\n  \"PRICE_STATUS\" TEXT\\n)'), ('table', 'TRADING_REGIONSUM', 'TRADING_REGIONSUM', 867, 'CREATE TABLE \"TRADING_REGIONSUM\" (\\n\"I\" TEXT,\\n  \"TRADING\" TEXT,\\n  \"REGIONSUM\" TEXT,\\n  \"4\" INTEGER,\\n  \"SETTLEMENTDATE\" TEXT,\\n  \"RUNNO\" INTEGER,\\n  \"REGIONID\" TEXT,\\n  \"PERIODID\" INTEGER,\\n  \"TOTALDEMAND\" REAL,\\n  \"AVAILABLEGENERATION\" REAL,\\n  \"AVAILABLELOAD\" REAL,\\n  \"DEMANDFORECAST\" REAL,\\n  \"DISPATCHABLEGENERATION\" REAL,\\n  \"DISPATCHABLELOAD\" REAL,\\n  \"NETINTERCHANGE\" REAL,\\n  \"EXCESSGENERATION\" INTEGER,\\n  \"LOWER5MINDISPATCH\" REAL,\\n  \"LOWER5MINIMPORT\" REAL,\\n  \"LOWER5MINLOCALDISPATCH\" REAL,\\n  \"LOWER5MINLOCALPRICE\" REAL,\\n  \"LOWER5MINLOCALREQ\" REAL,\\n  \"LOWER5MINPRICE\" REAL,\\n  \"LOWER5MINREQ\" REAL,\\n  \"LOWER5MINSUPPLYPRICE\" REAL,\\n  \"LOWER60SECDISPATCH\" REAL,\\n  \"LOWER60SECIMPORT\" REAL,\\n  \"LOWER60SECLOCALDISPATCH\" REAL,\\n  \"LOWER60SECLOCALPRICE\" REAL,\\n  \"LOWER60SECLOCALREQ\" REAL,\\n  \"LOWER60SECPRICE\" REAL,\\n  \"LOWER60SECREQ\" REAL,\\n  \"LOWER60SECSUPPLYPRICE\" REAL,\\n  \"LOWER6SECDISPATCH\" REAL,\\n  \"LOWER6SECIMPORT\" REAL,\\n  \"LOWER6SECLOCALDISPATCH\" REAL,\\n  \"LOWER6SECLOCALPRICE\" REAL,\\n  \"LOWER6SECLOCALREQ\" REAL,\\n  \"LOWER6SECPRICE\" REAL,\\n  \"LOWER6SECREQ\" REAL,\\n  \"LOWER6SECSUPPLYPRICE\" REAL,\\n  \"RAISE5MINDISPATCH\" REAL,\\n  \"RAISE5MINIMPORT\" REAL,\\n  \"RAISE5MINLOCALDISPATCH\" REAL,\\n  \"RAISE5MINLOCALPRICE\" REAL,\\n  \"RAISE5MINLOCALREQ\" REAL,\\n  \"RAISE5MINPRICE\" REAL,\\n  \"RAISE5MINREQ\" REAL,\\n  \"RAISE5MINSUPPLYPRICE\" REAL,\\n  \"RAISE60SECDISPATCH\" REAL,\\n  \"RAISE60SECIMPORT\" REAL,\\n  \"RAISE60SECLOCALDISPATCH\" REAL,\\n  \"RAISE60SECLOCALPRICE\" REAL,\\n  \"RAISE60SECLOCALREQ\" REAL,\\n  \"RAISE60SECPRICE\" REAL,\\n  \"RAISE60SECREQ\" REAL,\\n  \"RAISE60SECSUPPLYPRICE\" REAL,\\n  \"RAISE6SECDISPATCH\" REAL,\\n  \"RAISE6SECIMPORT\" REAL,\\n  \"RAISE6SECLOCALDISPATCH\" REAL,\\n  \"RAISE6SECLOCALPRICE\" REAL,\\n  \"RAISE6SECLOCALREQ\" REAL,\\n  \"RAISE6SECPRICE\" REAL,\\n  \"RAISE6SECREQ\" REAL,\\n  \"RAISE6SECSUPPLYPRICE\" REAL,\\n  \"LASTCHANGED\" TEXT,\\n  \"INITIALSUPPLY\" REAL,\\n  \"CLEAREDSUPPLY\" REAL,\\n  \"LOWERREGIMPORT\" REAL,\\n  \"LOWERREGLOCALDISPATCH\" REAL,\\n  \"LOWERREGLOCALREQ\" REAL,\\n  \"LOWERREGREQ\" REAL,\\n  \"RAISEREGIMPORT\" REAL,\\n  \"RAISEREGLOCALDISPATCH\" REAL,\\n  \"RAISEREGLOCALREQ\" REAL,\\n  \"RAISEREGREQ\" REAL,\\n  \"RAISE5MINLOCALVIOLATION\" REAL,\\n  \"RAISEREGLOCALVIOLATION\" REAL,\\n  \"RAISE60SECLOCALVIOLATION\" REAL,\\n  \"RAISE6SECLOCALVIOLATION\" REAL,\\n  \"LOWER5MINLOCALVIOLATION\" REAL,\\n  \"LOWERREGLOCALVIOLATION\" REAL,\\n  \"LOWER60SECLOCALVIOLATION\" REAL,\\n  \"LOWER6SECLOCALVIOLATION\" REAL,\\n  \"RAISE5MINVIOLATION\" REAL,\\n  \"RAISEREGVIOLATION\" REAL,\\n  \"RAISE60SECVIOLATION\" REAL,\\n  \"RAISE6SECVIOLATION\" REAL,\\n  \"LOWER5MINVIOLATION\" REAL,\\n  \"LOWERREGVIOLATION\" REAL,\\n  \"LOWER60SECVIOLATION\" REAL,\\n  \"LOWER6SECVIOLATION\" REAL,\\n  \"TOTALINTERMITTENTGENERATION\" REAL,\\n  \"DEMAND_AND_NONSCHEDGEN\" REAL,\\n  \"UIGF\" REAL\\n)'), ('table', 'TRADING_INTERCONNECTORRES', 'TRADING_INTERCONNECTORRES', 868, 'CREATE TABLE \"TRADING_INTERCONNECTORRES\" (\\n\"I\" TEXT,\\n  \"TRADING\" TEXT,\\n  \"INTERCONNECTORRES\" TEXT,\\n  \"2\" INTEGER,\\n  \"SETTLEMENTDATE\" TEXT,\\n  \"RUNNO\" INTEGER,\\n  \"INTERCONNECTORID\" TEXT,\\n  \"PERIODID\" INTEGER,\\n  \"METEREDMWFLOW\" REAL,\\n  \"MWFLOW\" REAL,\\n  \"MWLOSSES\" REAL,\\n  \"LASTCHANGED\" TEXT\\n)')]\n"
     ]
    }
   ],
   "source": [
    "print(cur.fetchall())"
   ]
  },
  {
   "cell_type": "code",
   "execution_count": 9,
   "metadata": {},
   "outputs": [
    {
     "data": {
      "text/plain": [
       "['__class__',\n",
       " '__delattr__',\n",
       " '__dir__',\n",
       " '__doc__',\n",
       " '__eq__',\n",
       " '__format__',\n",
       " '__ge__',\n",
       " '__getattribute__',\n",
       " '__gt__',\n",
       " '__hash__',\n",
       " '__init__',\n",
       " '__iter__',\n",
       " '__le__',\n",
       " '__lt__',\n",
       " '__ne__',\n",
       " '__new__',\n",
       " '__next__',\n",
       " '__reduce__',\n",
       " '__reduce_ex__',\n",
       " '__repr__',\n",
       " '__setattr__',\n",
       " '__sizeof__',\n",
       " '__str__',\n",
       " '__subclasshook__',\n",
       " 'arraysize',\n",
       " 'close',\n",
       " 'connection',\n",
       " 'description',\n",
       " 'execute',\n",
       " 'executemany',\n",
       " 'executescript',\n",
       " 'fetchall',\n",
       " 'fetchmany',\n",
       " 'fetchone',\n",
       " 'lastrowid',\n",
       " 'row_factory',\n",
       " 'rowcount',\n",
       " 'setinputsizes',\n",
       " 'setoutputsize']"
      ]
     },
     "execution_count": 9,
     "metadata": {},
     "output_type": "execute_result"
    }
   ],
   "source": [
    "dir(cur)"
   ]
  },
  {
   "cell_type": "code",
   "execution_count": null,
   "metadata": {},
   "outputs": [],
   "source": []
  }
 ],
 "metadata": {
  "kernelspec": {
   "display_name": "Python 3",
   "language": "python",
   "name": "python3"
  },
  "language_info": {
   "codemirror_mode": {
    "name": "ipython",
    "version": 3
   },
   "file_extension": ".py",
   "mimetype": "text/x-python",
   "name": "python",
   "nbconvert_exporter": "python",
   "pygments_lexer": "ipython3",
   "version": "3.5.5"
  }
 },
 "nbformat": 4,
 "nbformat_minor": 2
}
